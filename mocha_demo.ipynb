{
 "cells": [
  {
   "cell_type": "code",
   "execution_count": 1,
   "metadata": {},
   "outputs": [
    {
     "name": "stdout",
     "output_type": "stream",
     "text": [
      "Configuring Mocha...\n",
      " * CUDA       disabled by default\n",
      " * Native Ext disabled by default\n",
      "Mocha configured, continue loading module...\n",
      "DefaultBackend = Mocha.CPUBackend\n"
     ]
    }
   ],
   "source": [
    "using Mocha"
   ]
  },
  {
   "cell_type": "code",
   "execution_count": 2,
   "metadata": {},
   "outputs": [
    {
     "data": {
      "text/plain": [
       "Mocha.HDF5DataLayer(train-data)"
      ]
     },
     "execution_count": 2,
     "metadata": {},
     "output_type": "execute_result"
    }
   ],
   "source": [
    "data_layer  = HDF5DataLayer(name=\"train-data\", source=\"data/mtrain.txt\",\n",
    "    batch_size=64, shuffle=true)"
   ]
  },
  {
   "cell_type": "code",
   "execution_count": 3,
   "metadata": {},
   "outputs": [
    {
     "data": {
      "text/plain": [
       "Mocha.ConvolutionLayer(conv1)"
      ]
     },
     "execution_count": 3,
     "metadata": {},
     "output_type": "execute_result"
    }
   ],
   "source": [
    "conv_layer = ConvolutionLayer(name=\"conv1\", n_filter=20, kernel=(5,5),\n",
    "    bottoms=[:data], tops=[:conv1])"
   ]
  },
  {
   "cell_type": "code",
   "execution_count": 4,
   "metadata": {},
   "outputs": [
    {
     "data": {
      "text/plain": [
       "Mocha.PoolingLayer(pool2)"
      ]
     },
     "execution_count": 4,
     "metadata": {},
     "output_type": "execute_result"
    }
   ],
   "source": [
    "pool_layer = PoolingLayer(name=\"pool1\", kernel=(2,2), stride=(2,2),\n",
    "    bottoms=[:conv1], tops=[:pool1])\n",
    "conv2_layer = ConvolutionLayer(name=\"conv2\", n_filter=50, kernel=(5,5),\n",
    "    bottoms=[:pool1], tops=[:conv2])\n",
    "pool2_layer = PoolingLayer(name=\"pool2\", kernel=(2,2), stride=(2,2),\n",
    "    bottoms=[:conv2], tops=[:pool2])\n"
   ]
  },
  {
   "cell_type": "code",
   "execution_count": 5,
   "metadata": {},
   "outputs": [
    {
     "data": {
      "text/plain": [
       "Mocha.InnerProductLayer(ip2)"
      ]
     },
     "execution_count": 5,
     "metadata": {},
     "output_type": "execute_result"
    }
   ],
   "source": [
    "fc1_layer  = InnerProductLayer(name=\"ip1\", output_dim=500,\n",
    "    neuron=Neurons.ReLU(), bottoms=[:pool2], tops=[:ip1])\n",
    "fc2_layer  = InnerProductLayer(name=\"ip2\", output_dim=10,\n",
    "    bottoms=[:ip1], tops=[:ip2])"
   ]
  },
  {
   "cell_type": "code",
   "execution_count": 6,
   "metadata": {},
   "outputs": [
    {
     "data": {
      "text/plain": [
       "Mocha.SoftmaxLossLayer(loss)"
      ]
     },
     "execution_count": 6,
     "metadata": {},
     "output_type": "execute_result"
    }
   ],
   "source": [
    "loss_layer = SoftmaxLossLayer(name=\"loss\", bottoms=[:ip2,:label])"
   ]
  },
  {
   "cell_type": "code",
   "execution_count": 7,
   "metadata": {},
   "outputs": [],
   "source": [
    "backend = CPUBackend()\n",
    "init(backend)"
   ]
  },
  {
   "cell_type": "code",
   "execution_count": 13,
   "metadata": {},
   "outputs": [
    {
     "name": "stdout",
     "output_type": "stream",
     "text": [
      "[2018-10-08 11:14:32 | info | Mocha]: Constructing net MNIST-train on Mocha.CPUBackend...\n",
      "[2018-10-08 11:14:32 | info | Mocha]: Topological sorting 8 layers...\n",
      "[2018-10-08 11:14:32 | info | Mocha]: Setup layers...\n"
     ]
    },
    {
     "ename": "LoadError",
     "evalue": "\u001b[91mMethodError: Cannot `convert` an object of type Array{Int32,2} to an object of type Mocha.CPUBlob\nThis may have arisen from a call to the constructor Mocha.CPUBlob(...),\nsince type constructors fall back to convert methods.\u001b[39m",
     "output_type": "error",
     "traceback": [
      "\u001b[91mMethodError: Cannot `convert` an object of type Array{Int32,2} to an object of type Mocha.CPUBlob\nThis may have arisen from a call to the constructor Mocha.CPUBlob(...),\nsince type constructors fall back to convert methods.\u001b[39m",
      "",
      "Stacktrace:",
      " [1] \u001b[1mMocha.CPUBlob\u001b[22m\u001b[22m\u001b[1m(\u001b[22m\u001b[22m::Array{Int32,2}\u001b[1m)\u001b[22m\u001b[22m at \u001b[1m./sysimg.jl:77\u001b[22m\u001b[22m",
      " [2] \u001b[1mmake_blob\u001b[22m\u001b[22m\u001b[1m(\u001b[22m\u001b[22m::Mocha.CPUBackend, ::Type, ::Tuple{Int64,Int64}\u001b[1m)\u001b[22m\u001b[22m at \u001b[1m/Users/max/.julia/v0.6/Mocha/src/blob.jl:134\u001b[22m\u001b[22m",
      " [3] \u001b[1mMocha.HDF5DataLayerState\u001b[22m\u001b[22m\u001b[1m(\u001b[22m\u001b[22m::Mocha.CPUBackend, ::Mocha.HDF5DataLayer\u001b[1m)\u001b[22m\u001b[22m at \u001b[1m/Users/max/.julia/v0.6/Mocha/src/layers/hdf5-data.jl:68\u001b[22m\u001b[22m",
      " [4] \u001b[1msetup\u001b[22m\u001b[22m\u001b[1m(\u001b[22m\u001b[22m::Mocha.CPUBackend, ::Mocha.HDF5DataLayer, ::Array{Mocha.Blob,1}, ::Array{Mocha.Blob,1}\u001b[1m)\u001b[22m\u001b[22m at \u001b[1m/Users/max/.julia/v0.6/Mocha/src/layers/hdf5-data.jl:81\u001b[22m\u001b[22m",
      " [5] \u001b[1msetup\u001b[22m\u001b[22m\u001b[1m(\u001b[22m\u001b[22m::Mocha.CPUBackend, ::Mocha.HDF5DataLayer, ::Void, ::Array{Mocha.Blob,1}, ::Array{Mocha.Blob,1}\u001b[1m)\u001b[22m\u001b[22m at \u001b[1m/Users/max/.julia/v0.6/Mocha/src/layers.jl:111\u001b[22m\u001b[22m",
      " [6] \u001b[1mMocha.Net\u001b[22m\u001b[22m\u001b[1m(\u001b[22m\u001b[22m::String, ::Mocha.CPUBackend, ::Array{Mocha.Layer,1}\u001b[1m)\u001b[22m\u001b[22m at \u001b[1m/Users/max/.julia/v0.6/Mocha/src/net.jl:227\u001b[22m\u001b[22m",
      " [7] \u001b[1minclude_string\u001b[22m\u001b[22m\u001b[1m(\u001b[22m\u001b[22m::String, ::String\u001b[1m)\u001b[22m\u001b[22m at \u001b[1m./loading.jl:522\u001b[22m\u001b[22m",
      " [8] \u001b[1mexecute_request\u001b[22m\u001b[22m\u001b[1m(\u001b[22m\u001b[22m::ZMQ.Socket, ::IJulia.Msg\u001b[1m)\u001b[22m\u001b[22m at \u001b[1m/Users/max/.julia/v0.6/IJulia/src/execute_request.jl:193\u001b[22m\u001b[22m",
      " [9] \u001b[1m(::Compat.#inner#6{Array{Any,1},IJulia.#execute_request,Tuple{ZMQ.Socket,IJulia.Msg}})\u001b[22m\u001b[22m\u001b[1m(\u001b[22m\u001b[22m\u001b[1m)\u001b[22m\u001b[22m at \u001b[1m/Users/max/.julia/v0.6/Compat/src/Compat.jl:189\u001b[22m\u001b[22m",
      " [10] \u001b[1meventloop\u001b[22m\u001b[22m\u001b[1m(\u001b[22m\u001b[22m::ZMQ.Socket\u001b[1m)\u001b[22m\u001b[22m at \u001b[1m/Users/max/.julia/v0.6/IJulia/src/eventloop.jl:8\u001b[22m\u001b[22m",
      " [11] \u001b[1m(::IJulia.##13#16)\u001b[22m\u001b[22m\u001b[1m(\u001b[22m\u001b[22m\u001b[1m)\u001b[22m\u001b[22m at \u001b[1m./task.jl:335\u001b[22m\u001b[22m"
     ]
    }
   ],
   "source": [
    "common_layers = [conv_layer, pool_layer, conv2_layer, pool2_layer,\n",
    "    fc1_layer, fc2_layer]\n",
    "net = Net(\"MNIST-train\", backend, [data_layer, common_layers..., loss_layer])"
   ]
  },
  {
   "cell_type": "code",
   "execution_count": null,
   "metadata": {},
   "outputs": [],
   "source": []
  }
 ],
 "metadata": {
  "kernelspec": {
   "display_name": "Julia 0.6.4",
   "language": "julia",
   "name": "julia-0.6"
  },
  "language_info": {
   "file_extension": ".jl",
   "mimetype": "application/julia",
   "name": "julia",
   "version": "0.6.4"
  }
 },
 "nbformat": 4,
 "nbformat_minor": 2
}
